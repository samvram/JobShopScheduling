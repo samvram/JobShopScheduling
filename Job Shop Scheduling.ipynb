{
 "cells": [
  {
   "cell_type": "markdown",
   "metadata": {},
   "source": [
    "# The Job Shop Problem"
   ]
  },
  {
   "cell_type": "markdown",
   "metadata": {},
   "source": [
    "One common scheduling problem is the job shop, in which multiple jobs are processed on several machines. Each job consists of a sequence of tasks, which must be performed in a given order, and each task must be processed on a specific machine. For example, the job could be the manufacture of a single consumer item, such as an automobile. The problem is to schedule the tasks on the machines so as to minimize the length of the schedule — the time it takes from when the jobs are first started until all the jobs are completed.\n",
    "\n",
    "There are several constraints for the job shop problem:\n",
    "\n",
    "* No task for a job can be started until the previous task for that job is completed.\n",
    "* A machine can only work on one task at a time.\n",
    "* A task, once started, must run to completion."
   ]
  },
  {
   "cell_type": "code",
   "execution_count": 1,
   "metadata": {},
   "outputs": [],
   "source": [
    "from __future__ import print_function\n",
    "\n",
    "# Import Python wrapper for or-tools constraint solver.\n",
    "from ortools.constraint_solver import pywrapcp"
   ]
  },
  {
   "cell_type": "markdown",
   "metadata": {},
   "source": [
    "## The Example Problem\n",
    "\n",
    "Below is a simple example of a job shop problem, in which each task is labeled by a pair of numbers (m, p) where m is the number of the machine the task must be processed on and p is the processing time of the task — the amount of time it requires. (The numbering of jobs and machines starts at 0.)\n",
    "\n",
    "*    job 0 = [(0, 2), (1, 3), (2, 4)]\n",
    "*    job 1 = [(2, 4), (1, 4), (0, 1)]\n",
    "*    job 2 = [(1, 2), (2, 2), (0, 3)]\n",
    "*    job 3 = [(0, 3), (2, 3), (1, 1)]\n",
    "\n",
    "In the example, job 0 has three tasks. The first, (0, 3), must be processed on machine 0 in 3 units of time. The second, (1, 2), must be processed on machine 1 in 2 units of time, and so on. Altogether, there are eight tasks."
   ]
  },
  {
   "cell_type": "code",
   "execution_count": 2,
   "metadata": {},
   "outputs": [],
   "source": [
    "# Defining Solver\n",
    "solver = pywrapcp.Solver('jobshop')\n",
    "\n",
    "# Defining necessary variables\n",
    "machines_count = 3\n",
    "jobs_count = 4\n",
    "all_machines = range(0, machines_count)\n",
    "all_jobs = range(0, jobs_count)"
   ]
  },
  {
   "cell_type": "markdown",
   "metadata": {},
   "source": [
    "The following code defines the data in the problem. Suppose you want to add a job (m,p) where m is the machine the job needs processing on, and p is the processing time, then we can add that to this part.\n",
    "\n",
    "*Note: This program is now modified to solve the problem being discussed in class on 31/10/2018*\n",
    "\n",
    "The program imports the Python wrapper, pywrapcp, to the OR-Tools constraint programming solver. It then declares the solver by the command\n",
    "\n",
    "   `solver = pywrapcp.Solver('jobshop')`\n",
    "\n",
    "Next, the program defines the data for the problem by the two arrays, `machines` and `processing_times`. Recall the original definition of the problem:\n",
    "\n",
    "*    job 0 = [(0, 2), (1, 3), (2, 4)]\n",
    "*    job 1 = [(2, 4), (1, 4), (0, 1)]\n",
    "*    job 2 = [(1, 2), (2, 2), (0, 3)]\n",
    "*    job 3 = [(0, 3), (2, 3), (1, 1)]\n",
    "\n",
    "The array `machines` contains the first entries of the pairs of numbers, while `processing_times` contains the second entries. "
   ]
  },
  {
   "cell_type": "code",
   "execution_count": 3,
   "metadata": {},
   "outputs": [],
   "source": [
    "# Define data.\n",
    "machines = [[0, 1, 2],\n",
    "            [2, 1, 0],\n",
    "            [1, 2, 0],\n",
    "            [0, 2]]\n",
    "\n",
    "processing_times = [[2, 3, 4],\n",
    "                    [4, 4, 1],\n",
    "                    [2, 2, 3],\n",
    "                    [3, 3]]"
   ]
  },
  {
   "cell_type": "markdown",
   "metadata": {},
   "source": [
    "Let us assume we need to add a 3rd process to job 2 which needs to be processed on machine 0, and is 2 units duration wise"
   ]
  },
  {
   "cell_type": "code",
   "execution_count": 4,
   "metadata": {},
   "outputs": [],
   "source": [
    "machines = [[0, 1, 2],\n",
    "            [2, 1, 0],\n",
    "            [1, 2, 0],\n",
    "            [0, 2, 1]]                     # Notice the addition of 1 here, signifying the 3rd sequence of job 3\n",
    "                                            # needs processing on machine 1\n",
    "\n",
    "processing_times = [[2, 3, 4],\n",
    "                    [4, 4, 1],\n",
    "                    [2, 2, 3],\n",
    "                    [3, 3, 1]]              # Notice the addition of 1 here, signifying the 3rd sequence of job 3\n",
    "                                            # needs processing of 1 units long time"
   ]
  },
  {
   "cell_type": "markdown",
   "metadata": {},
   "source": [
    "## Defining the constraints\n",
    "\n",
    "This section describes how to set up the variables and constraints for the problem. First, let task(i, j) denote the jth task in the sequence for job i. For example, task(0, 2) denotes the second task for job 0, which corresponds to the pair (1, 2) in the problem description.\n",
    "\n",
    "Next, define ti, j to be the start time for task(i, j). The t<sub>i, j</sub> are the variables in the job shop problem. Finding a solution involves determining values for these variables that meet the requirement of the problem.\n",
    "\n",
    "There are two types of constraints for the job shop problem:\n",
    "\n",
    "*    Conjunctive constraints — These arise from the condition that for any two consecutive tasks in the same job, the first must be completed before the second can be started. For example, task(0, 2) and task(0, 3) are consecutive tasks for job 0. Since the processing time for task(0, 2) is 2, the start time for task(0, 3) must be at least 2 units of time after the start time for task 2. (Perhaps task 2 is painting a door, and it takes two hours for the paint to dry.) As a result, you get the following constraint:\n",
    "\n",
    "        t<sub>0, 2</sub>   + 2  ≤  t<sub>0, 3</sub>\n",
    "*    Disjunctive constraints — These arise from the restriction that a machine can't work on two tasks at the same time. For example, task(0, 2) and task(2, 1) are both processed on machine 1. Since their processing times are 2 and 4, respectively, one of the following constraints must hold:\n",
    "\n",
    "        t<sub>0, 2</sub>   + 2  ≤  t<sub>2, 1</sub> (if task(0, 2) is scheduled before task(2, 1))\n",
    "\n",
    "          or\n",
    "\n",
    "        t<sub>2, 1</sub>   + 4  ≤  t<sub>0, 2</sub> (if task(2, 1) is scheduled before task(0, 2)).\n",
    "\n",
    "\n",
    "First, the program uses the solver's `FixedDurationIntervalVar` method to create `all_tasks`, an array containing the variables for the time interval of each task. This is a special type of variable in OR-Tools, called an interval variable, which contains both the begin time and end time for each interval.\n",
    "\n",
    "Next, the program uses the solver's `DisjunctiveConstraints` method to create the [disjunctive constraints](https://developers.google.com/optimization/scheduling/job_shop#disjunctive) for the problem, and add them to the solver. These prevent tasks for the same machine from overlapping in time.\n",
    "\n",
    "Finally, the program adds the [conjunctive constraints](https://developers.google.com/optimization/scheduling/job_shop#conjunctive), which prevent consecutive tasks for the same job from overlapping in time, as follows:\n",
    "\n",
    "```  for i in all_jobs:\n",
    "         for j in range(0, len(machines[i]) - 1):\n",
    "             solver.Add(all_tasks[(i, j + 1)].StartsAfterEnd(all_tasks[(i, j)]))```\n",
    "\n",
    "For each job, this forces the start time of task j + 1 to occur later than the end time of task j."
   ]
  },
  {
   "cell_type": "code",
   "execution_count": 5,
   "metadata": {},
   "outputs": [],
   "source": [
    "# Computes horizon.\n",
    "horizon = 0\n",
    "for i in all_jobs:\n",
    "    horizon += sum(processing_times[i])\n",
    "\n",
    "\n",
    "# Creates jobs.\n",
    "all_tasks = {}\n",
    "for i in all_jobs:\n",
    "    for j in range(0, len(machines[i])):\n",
    "        all_tasks[(i, j)] = solver.FixedDurationIntervalVar(0,\n",
    "                                                            horizon,\n",
    "                                                            processing_times[i][j],\n",
    "                                                            False,\n",
    "                                                            'Job_%i_%i' % (i, j))\n",
    "\n",
    "# Creates sequence variables and add disjunctive constraints.\n",
    "all_sequences = []\n",
    "all_machines_jobs = []\n",
    "for i in all_machines:\n",
    "    machines_jobs = []\n",
    "    for j in all_jobs:\n",
    "        for k in range(0, len(machines[j])):\n",
    "            if machines[j][k] == i:\n",
    "                machines_jobs.append(all_tasks[(j, k)])   \n",
    "    disj = solver.DisjunctiveConstraint(machines_jobs, 'machine %i' % i)\n",
    "    all_sequences.append(disj.SequenceVar())\n",
    "    solver.Add(disj)\n",
    "\n",
    "# Add conjunctive contraints.\n",
    "for i in all_jobs:\n",
    "    for j in range(0, len(machines[i]) - 1):\n",
    "        solver.Add(all_tasks[(i, j + 1)].StartsAfterEnd(all_tasks[(i, j)]))"
   ]
  },
  {
   "cell_type": "markdown",
   "metadata": {},
   "source": [
    "## Define the objective\n",
    "\n",
    "The following code defines the objective in the problem.\n",
    "\n",
    "The expression `all_tasks[(i, len(machines[i])-1)].EndExpr()` returns the end time for the last task on machine i. By definition, the length of a solution is the maximum of these end times over all all machines. The code above sets the objective for the problem to be this maximum value."
   ]
  },
  {
   "cell_type": "code",
   "execution_count": 6,
   "metadata": {},
   "outputs": [],
   "source": [
    "# Set the objective.\n",
    "obj_var = solver.Max([all_tasks[(i, len(machines[i])-1)].EndExpr() for i in all_jobs])\n",
    "objective_monitor = solver.Minimize(obj_var, 1)"
   ]
  },
  {
   "cell_type": "markdown",
   "metadata": {},
   "source": [
    "## Setting Solver Options\n",
    "\n",
    "The following code sets some standard options for the solver.\n",
    "\n",
    "For example `sequence_phase` sets the method the solver uses when it iteratively inserts tasks into the sequence for each machine. See [Decision builders](https://developers.google.com/optimization/mip/integer_opt_cp.html#decision_builder) for more details. "
   ]
  },
  {
   "cell_type": "code",
   "execution_count": 7,
   "metadata": {},
   "outputs": [],
   "source": [
    "# Create search phases.\n",
    "sequence_phase = solver.Phase([all_sequences[i] for i in all_machines],\n",
    "                              solver.SEQUENCE_DEFAULT)\n",
    "vars_phase = solver.Phase([obj_var],\n",
    "                          solver.CHOOSE_FIRST_UNBOUND,\n",
    "                          solver.ASSIGN_MIN_VALUE)\n",
    "main_phase = solver.Compose([sequence_phase, vars_phase])"
   ]
  },
  {
   "cell_type": "markdown",
   "metadata": {},
   "source": [
    "## Create the solution collector\n",
    "\n",
    "The following code creates a solution collector for the example, which stores the the optimal schedule, including the begin and end times for each task, and the value of the objective function.\n",
    "\n",
    "The solution collector stores the values of the start time and end time for each task as `t.StartExpr()` and `t.EndExpr()`, respectively."
   ]
  },
  {
   "cell_type": "code",
   "execution_count": 8,
   "metadata": {},
   "outputs": [],
   "source": [
    "# Create the solution collector.\n",
    "collector = solver.LastSolutionCollector()\n",
    "\n",
    "# Add the interesting variables to the SolutionCollector.\n",
    "collector.Add(all_sequences)\n",
    "collector.AddObjective(obj_var)\n",
    "\n",
    "for i in all_machines:\n",
    "    sequence = all_sequences[i];\n",
    "    sequence_count = sequence.Size();\n",
    "    for j in range(0, sequence_count):\n",
    "        t = sequence.Interval(j)\n",
    "        collector.Add(t.StartExpr().Var())\n",
    "        collector.Add(t.EndExpr().Var())"
   ]
  },
  {
   "cell_type": "markdown",
   "metadata": {},
   "source": [
    "## Call the solver and display the results\n",
    "\n",
    "The following code calls the solver and prints out the optimal schedule length and task order."
   ]
  },
  {
   "cell_type": "code",
   "execution_count": 9,
   "metadata": {},
   "outputs": [
    {
     "name": "stdout",
     "output_type": "stream",
     "text": [
      "\n",
      "Optimal Schedule Length: 13 \n",
      "\n",
      "Optimal Schedule \n",
      "\n",
      "Machine 0: Job_0_0   Job_3_0   Job_2_2   Job_1_2   \n",
      "Machine 1: Job_2_0   Job_0_1   Job_1_1   Job_3_2   \n",
      "Machine 2: Job_1_0   Job_2_1   Job_3_1   Job_0_2   \n",
      "\n",
      "Time Intervals for Tasks\n",
      "\n",
      "Machine 0: [0,2]     [2,5]     [6,9]     [9,10]    \n",
      "Machine 1: [0,2]     [2,5]     [5,9]     [9,10]    \n",
      "Machine 2: [0,4]     [4,6]     [6,9]     [9,13]    \n",
      "\n"
     ]
    }
   ],
   "source": [
    "# Solve the problem.\n",
    "disp_col_width = 10\n",
    "if solver.Solve(main_phase, [objective_monitor, collector]):\n",
    "    print(\"\\nOptimal Schedule Length:\", collector.ObjectiveValue(0), \"\\n\")\n",
    "    sol_line = \"\"\n",
    "    sol_line_tasks = \"\"\n",
    "    print(\"Optimal Schedule\", \"\\n\")\n",
    "\n",
    "    for i in all_machines:\n",
    "        seq = all_sequences[i]\n",
    "        sol_line += \"Machine \" + str(i) + \": \"\n",
    "        sol_line_tasks += \"Machine \" + str(i) + \": \"\n",
    "        sequence = collector.ForwardSequence(0, seq)\n",
    "        seq_size = len(sequence)\n",
    "\n",
    "        for j in range(0, seq_size):\n",
    "            t = seq.Interval(sequence[j]);\n",
    "             # Add spaces to output to align columns.\n",
    "            sol_line_tasks +=  t.Name() + \" \" * (disp_col_width - len(t.Name()))\n",
    "\n",
    "        for j in range(0, seq_size):\n",
    "            t = seq.Interval(sequence[j]);\n",
    "            sol_tmp = \"[\" + str(collector.Value(0, t.StartExpr().Var())) + \",\"\n",
    "            sol_tmp += str(collector.Value(0, t.EndExpr().Var())) + \"] \"\n",
    "            # Add spaces to output to align columns.\n",
    "            sol_line += sol_tmp + \" \" * (disp_col_width - len(sol_tmp))\n",
    "\n",
    "        sol_line += \"\\n\"\n",
    "        sol_line_tasks += \"\\n\"\n",
    "\n",
    "print(sol_line_tasks)\n",
    "print(\"Time Intervals for Tasks\\n\")\n",
    "print(sol_line)"
   ]
  },
  {
   "cell_type": "markdown",
   "metadata": {},
   "source": [
    "The length of the optimal schedule is 11, which is an improvement over the solution shown previously. The optimal schedule is displayed for each machine, where `Job_i_j` represents the jth task for job i."
   ]
  }
 ],
 "metadata": {
  "kernelspec": {
   "display_name": "Python 3",
   "language": "python",
   "name": "python3"
  },
  "language_info": {
   "codemirror_mode": {
    "name": "ipython",
    "version": 3
   },
   "file_extension": ".py",
   "mimetype": "text/x-python",
   "name": "python",
   "nbconvert_exporter": "python",
   "pygments_lexer": "ipython3",
   "version": "3.5.3"
  }
 },
 "nbformat": 4,
 "nbformat_minor": 2
}
